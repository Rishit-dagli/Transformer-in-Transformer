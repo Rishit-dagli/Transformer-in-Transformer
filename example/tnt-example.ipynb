{
  "nbformat": 4,
  "nbformat_minor": 0,
  "metadata": {
    "colab": {
      "name": "tnt.ipynb",
      "provenance": [],
      "authorship_tag": "ABX9TyNKhWsjkWftvzN2B7y9Ts+0",
      "include_colab_link": true
    },
    "kernelspec": {
      "name": "python3",
      "display_name": "Python 3"
    },
    "language_info": {
      "name": "python"
    }
  },
  "cells": [
    {
      "cell_type": "markdown",
      "metadata": {
        "id": "view-in-github",
        "colab_type": "text"
      },
      "source": [
        "<a href=\"https://colab.research.google.com/github/Rishit-dagli/Transformer-in-Transformer/blob/main/example/tnt-example.ipynb\" target=\"_parent\"><img src=\"https://colab.research.google.com/assets/colab-badge.svg\" alt=\"Open In Colab\"/></a>"
      ]
    },
    {
      "cell_type": "markdown",
      "metadata": {
        "id": "F4e1Ksg7pa4l"
      },
      "source": [
        "# Transformers in Transformers Example\n",
        "\n",
        "This notebook shows the the process of using the [tnt-tensorflow](https://pypi.org/project/tnt-tensorflow/) Python package. This is an Implementation of the [Transformer in Transformer](https://arxiv.org/abs/2103.00112)\n",
        "paper by Han et al. for image classification, attention inside local patches.\n",
        "**Transformer in Transformers** uses pixel level attention paired with patch\n",
        "level attention for image classification, in TensorFlow.\n",
        "\n",
        "If you find this useful please consider giving a ⭐ to [the repo](https://github.com/Rishit-dagli/Transformer-in-Transformer)."
      ]
    },
    {
      "cell_type": "markdown",
      "metadata": {
        "id": "Fa-TdpRzp1N0"
      },
      "source": [
        "## Install the package"
      ]
    },
    {
      "cell_type": "code",
      "metadata": {
        "colab": {
          "base_uri": "https://localhost:8080/"
        },
        "id": "j9_uMOjYchxz",
        "outputId": "13325645-9264-4431-8d5a-5e6bcf63a0c6"
      },
      "source": [
        "!pip install -i https://test.pypi.org/simple/ tnt-tensorflow==0.1.0"
      ],
      "execution_count": 32,
      "outputs": [
        {
          "output_type": "stream",
          "name": "stdout",
          "text": [
            "Looking in indexes: https://test.pypi.org/simple/\n",
            "Collecting tnt-tensorflow==0.1.0\n",
            "  Downloading https://test-files.pythonhosted.org/packages/87/18/0a8cb776c7c70f2f3fa6aa2e76108105f81e1081a3e190a896ce4532380b/tnt_tensorflow-0.1.0-py3-none-any.whl (10 kB)\n",
            "Requirement already satisfied: einops~=0.3.0 in /usr/local/lib/python3.7/dist-packages (from tnt-tensorflow==0.1.0) (0.3.2)\n",
            "Requirement already satisfied: tensorflow~=2.5.0 in /usr/local/lib/python3.7/dist-packages (from tnt-tensorflow==0.1.0) (2.5.2)\n",
            "Requirement already satisfied: six~=1.15.0 in /usr/local/lib/python3.7/dist-packages (from tensorflow~=2.5.0->tnt-tensorflow==0.1.0) (1.15.0)\n",
            "Requirement already satisfied: keras-preprocessing~=1.1.2 in /usr/local/lib/python3.7/dist-packages (from tensorflow~=2.5.0->tnt-tensorflow==0.1.0) (1.1.2)\n",
            "Requirement already satisfied: typing-extensions~=3.7.4 in /usr/local/lib/python3.7/dist-packages (from tensorflow~=2.5.0->tnt-tensorflow==0.1.0) (3.7.4.3)\n",
            "Requirement already satisfied: termcolor~=1.1.0 in /usr/local/lib/python3.7/dist-packages (from tensorflow~=2.5.0->tnt-tensorflow==0.1.0) (1.1.0)\n",
            "Requirement already satisfied: absl-py~=0.10 in /usr/local/lib/python3.7/dist-packages (from tensorflow~=2.5.0->tnt-tensorflow==0.1.0) (0.12.0)\n",
            "Requirement already satisfied: gast==0.4.0 in /usr/local/lib/python3.7/dist-packages (from tensorflow~=2.5.0->tnt-tensorflow==0.1.0) (0.4.0)\n",
            "Requirement already satisfied: astunparse~=1.6.3 in /usr/local/lib/python3.7/dist-packages (from tensorflow~=2.5.0->tnt-tensorflow==0.1.0) (1.6.3)\n",
            "Requirement already satisfied: numpy~=1.19.2 in /usr/local/lib/python3.7/dist-packages (from tensorflow~=2.5.0->tnt-tensorflow==0.1.0) (1.19.5)\n",
            "Requirement already satisfied: opt-einsum~=3.3.0 in /usr/local/lib/python3.7/dist-packages (from tensorflow~=2.5.0->tnt-tensorflow==0.1.0) (3.3.0)\n",
            "Requirement already satisfied: google-pasta~=0.2 in /usr/local/lib/python3.7/dist-packages (from tensorflow~=2.5.0->tnt-tensorflow==0.1.0) (0.2.0)\n",
            "Requirement already satisfied: tensorflow-estimator<2.6.0,>=2.5.0 in /usr/local/lib/python3.7/dist-packages (from tensorflow~=2.5.0->tnt-tensorflow==0.1.0) (2.5.0)\n",
            "Requirement already satisfied: keras-nightly~=2.5.0.dev in /usr/local/lib/python3.7/dist-packages (from tensorflow~=2.5.0->tnt-tensorflow==0.1.0) (2.5.0.dev2021032900)\n",
            "Requirement already satisfied: wrapt~=1.12.1 in /usr/local/lib/python3.7/dist-packages (from tensorflow~=2.5.0->tnt-tensorflow==0.1.0) (1.12.1)\n",
            "Requirement already satisfied: tensorboard~=2.5 in /usr/local/lib/python3.7/dist-packages (from tensorflow~=2.5.0->tnt-tensorflow==0.1.0) (2.7.0)\n",
            "Requirement already satisfied: grpcio~=1.34.0 in /usr/local/lib/python3.7/dist-packages (from tensorflow~=2.5.0->tnt-tensorflow==0.1.0) (1.34.1)\n",
            "Requirement already satisfied: flatbuffers~=1.12.0 in /usr/local/lib/python3.7/dist-packages (from tensorflow~=2.5.0->tnt-tensorflow==0.1.0) (1.12)\n",
            "Requirement already satisfied: wheel~=0.35 in /usr/local/lib/python3.7/dist-packages (from tensorflow~=2.5.0->tnt-tensorflow==0.1.0) (0.37.0)\n",
            "Requirement already satisfied: h5py~=3.1.0 in /usr/local/lib/python3.7/dist-packages (from tensorflow~=2.5.0->tnt-tensorflow==0.1.0) (3.1.0)\n",
            "Requirement already satisfied: protobuf>=3.9.2 in /usr/local/lib/python3.7/dist-packages (from tensorflow~=2.5.0->tnt-tensorflow==0.1.0) (3.17.3)\n",
            "Requirement already satisfied: cached-property in /usr/local/lib/python3.7/dist-packages (from h5py~=3.1.0->tensorflow~=2.5.0->tnt-tensorflow==0.1.0) (1.5.2)\n",
            "Requirement already satisfied: tensorboard-plugin-wit>=1.6.0 in /usr/local/lib/python3.7/dist-packages (from tensorboard~=2.5->tensorflow~=2.5.0->tnt-tensorflow==0.1.0) (1.8.0)\n",
            "Requirement already satisfied: markdown>=2.6.8 in /usr/local/lib/python3.7/dist-packages (from tensorboard~=2.5->tensorflow~=2.5.0->tnt-tensorflow==0.1.0) (3.3.6)\n",
            "Requirement already satisfied: setuptools>=41.0.0 in /usr/local/lib/python3.7/dist-packages (from tensorboard~=2.5->tensorflow~=2.5.0->tnt-tensorflow==0.1.0) (57.4.0)\n",
            "Requirement already satisfied: google-auth<3,>=1.6.3 in /usr/local/lib/python3.7/dist-packages (from tensorboard~=2.5->tensorflow~=2.5.0->tnt-tensorflow==0.1.0) (1.35.0)\n",
            "Requirement already satisfied: requests<3,>=2.21.0 in /usr/local/lib/python3.7/dist-packages (from tensorboard~=2.5->tensorflow~=2.5.0->tnt-tensorflow==0.1.0) (2.23.0)\n",
            "Requirement already satisfied: google-auth-oauthlib<0.5,>=0.4.1 in /usr/local/lib/python3.7/dist-packages (from tensorboard~=2.5->tensorflow~=2.5.0->tnt-tensorflow==0.1.0) (0.4.6)\n",
            "Requirement already satisfied: werkzeug>=0.11.15 in /usr/local/lib/python3.7/dist-packages (from tensorboard~=2.5->tensorflow~=2.5.0->tnt-tensorflow==0.1.0) (1.0.1)\n",
            "Requirement already satisfied: tensorboard-data-server<0.7.0,>=0.6.0 in /usr/local/lib/python3.7/dist-packages (from tensorboard~=2.5->tensorflow~=2.5.0->tnt-tensorflow==0.1.0) (0.6.1)\n",
            "Requirement already satisfied: pyasn1-modules>=0.2.1 in /usr/local/lib/python3.7/dist-packages (from google-auth<3,>=1.6.3->tensorboard~=2.5->tensorflow~=2.5.0->tnt-tensorflow==0.1.0) (0.2.8)\n",
            "Requirement already satisfied: cachetools<5.0,>=2.0.0 in /usr/local/lib/python3.7/dist-packages (from google-auth<3,>=1.6.3->tensorboard~=2.5->tensorflow~=2.5.0->tnt-tensorflow==0.1.0) (4.2.4)\n",
            "Requirement already satisfied: rsa<5,>=3.1.4 in /usr/local/lib/python3.7/dist-packages (from google-auth<3,>=1.6.3->tensorboard~=2.5->tensorflow~=2.5.0->tnt-tensorflow==0.1.0) (4.8)\n",
            "Requirement already satisfied: requests-oauthlib>=0.7.0 in /usr/local/lib/python3.7/dist-packages (from google-auth-oauthlib<0.5,>=0.4.1->tensorboard~=2.5->tensorflow~=2.5.0->tnt-tensorflow==0.1.0) (1.3.0)\n",
            "Requirement already satisfied: importlib-metadata>=4.4 in /usr/local/lib/python3.7/dist-packages (from markdown>=2.6.8->tensorboard~=2.5->tensorflow~=2.5.0->tnt-tensorflow==0.1.0) (4.8.2)\n",
            "Requirement already satisfied: zipp>=0.5 in /usr/local/lib/python3.7/dist-packages (from importlib-metadata>=4.4->markdown>=2.6.8->tensorboard~=2.5->tensorflow~=2.5.0->tnt-tensorflow==0.1.0) (3.6.0)\n",
            "Requirement already satisfied: pyasn1<0.5.0,>=0.4.6 in /usr/local/lib/python3.7/dist-packages (from pyasn1-modules>=0.2.1->google-auth<3,>=1.6.3->tensorboard~=2.5->tensorflow~=2.5.0->tnt-tensorflow==0.1.0) (0.4.8)\n",
            "Requirement already satisfied: urllib3!=1.25.0,!=1.25.1,<1.26,>=1.21.1 in /usr/local/lib/python3.7/dist-packages (from requests<3,>=2.21.0->tensorboard~=2.5->tensorflow~=2.5.0->tnt-tensorflow==0.1.0) (1.24.3)\n",
            "Requirement already satisfied: chardet<4,>=3.0.2 in /usr/local/lib/python3.7/dist-packages (from requests<3,>=2.21.0->tensorboard~=2.5->tensorflow~=2.5.0->tnt-tensorflow==0.1.0) (3.0.4)\n",
            "Requirement already satisfied: certifi>=2017.4.17 in /usr/local/lib/python3.7/dist-packages (from requests<3,>=2.21.0->tensorboard~=2.5->tensorflow~=2.5.0->tnt-tensorflow==0.1.0) (2021.10.8)\n",
            "Requirement already satisfied: idna<3,>=2.5 in /usr/local/lib/python3.7/dist-packages (from requests<3,>=2.21.0->tensorboard~=2.5->tensorflow~=2.5.0->tnt-tensorflow==0.1.0) (2.10)\n",
            "Requirement already satisfied: oauthlib>=3.0.0 in /usr/local/lib/python3.7/dist-packages (from requests-oauthlib>=0.7.0->google-auth-oauthlib<0.5,>=0.4.1->tensorboard~=2.5->tensorflow~=2.5.0->tnt-tensorflow==0.1.0) (3.1.1)\n",
            "Installing collected packages: tnt-tensorflow\n",
            "Successfully installed tnt-tensorflow-0.1.0\n"
          ]
        }
      ]
    },
    {
      "cell_type": "markdown",
      "metadata": {
        "id": "29MQlREKp5Uk"
      },
      "source": [
        "## Setup"
      ]
    },
    {
      "cell_type": "code",
      "metadata": {
        "id": "VM541J-bpKbt"
      },
      "source": [
        "import tensorflow as tf\n",
        "from tnt import TNT"
      ],
      "execution_count": 33,
      "outputs": []
    },
    {
      "cell_type": "markdown",
      "metadata": {
        "id": "_86dRouJp7_E"
      },
      "source": [
        "## Create a `TNT` class"
      ]
    },
    {
      "cell_type": "code",
      "metadata": {
        "id": "J__6NWYjp8N8"
      },
      "source": [
        "tnt = TNT(\n",
        "    image_size=256,  # size of image\n",
        "    patch_dim=512,  # dimension of patch token\n",
        "    pixel_dim=24,  # dimension of pixel token\n",
        "    patch_size=16,  # patch size\n",
        "    pixel_size=4,  # pixel size\n",
        "    depth=5,  # depth\n",
        "    num_classes=1000,  # output number of classes\n",
        "    attn_dropout=0.1,  # attention dropout\n",
        "    ff_dropout=0.1,  # feedforward dropout\n",
        ")\n",
        "\n",
        "img = tf.random.uniform(shape=[5, 3, 256, 256])\n",
        "logits = tnt(img) # (5, 1000)"
      ],
      "execution_count": null,
      "outputs": []
    },
    {
      "cell_type": "code",
      "metadata": {
        "colab": {
          "base_uri": "https://localhost:8080/"
        },
        "id": "Bj5n7fYkpLiv",
        "outputId": "253f7b38-cb22-4d17-d89d-7b7efd30696d"
      },
      "source": [
        "logits.shape.as_list()"
      ],
      "execution_count": 36,
      "outputs": [
        {
          "output_type": "execute_result",
          "data": {
            "text/plain": [
              "[5, 1000]"
            ]
          },
          "metadata": {},
          "execution_count": 36
        }
      ]
    }
  ]
}