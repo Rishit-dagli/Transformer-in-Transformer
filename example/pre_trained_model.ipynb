{
  "nbformat": 4,
  "nbformat_minor": 0,
  "metadata": {
    "colab": {
      "name": "pre-trained-model.ipynb",
      "provenance": [],
      "authorship_tag": "ABX9TyOLakRgqFRMOJZLPs//hKBO",
      "include_colab_link": true
    },
    "kernelspec": {
      "name": "python3",
      "display_name": "Python 3"
    },
    "language_info": {
      "name": "python"
    }
  },
  "cells": [
    {
      "cell_type": "markdown",
      "metadata": {
        "id": "view-in-github",
        "colab_type": "text"
      },
      "source": [
        "<a href=\"https://colab.research.google.com/github/Rishit-dagli/Transformer-in-Transformer/blob/main/example/pre_trained_model.ipynb\" target=\"_parent\"><img src=\"https://colab.research.google.com/assets/colab-badge.svg\" alt=\"Open In Colab\"/></a>"
      ]
    },
    {
      "cell_type": "markdown",
      "source": [
        "# TNT pre-trained model\n",
        "\n",
        "This notebook shows how to use the pre-trained TNT model.\n",
        "This is an Implementation of the [Transformer in Transformer](https://arxiv.org/abs/2103.00112)\n",
        "paper by Han et al. for image classification, attention inside local patches.\n",
        "**Transformer in Transformers** uses pixel level attention paired with patch\n",
        "level attention for image classification, in TensorFlow.\n",
        "\n",
        "If you find this useful please consider giving a ⭐ to [the repo](https://github.com/Rishit-dagli/Transformer-in-Transformer)."
      ],
      "metadata": {
        "id": "IgOrmhadsSXD"
      }
    },
    {
      "cell_type": "code",
      "source": [
        "!wget https://storage.googleapis.com/bit_models/ilsvrc2012_wordnet_lemmas.txt -O ilsvrc2012_wordnet_lemmas.txt"
      ],
      "metadata": {
        "colab": {
          "base_uri": "https://localhost:8080/"
        },
        "id": "FJACqMzJm4I3",
        "outputId": "b6c38124-196e-409f-ba8b-9c1776a7866d"
      },
      "execution_count": 2,
      "outputs": [
        {
          "output_type": "stream",
          "name": "stdout",
          "text": [
            "--2022-01-17 06:16:40--  https://storage.googleapis.com/bit_models/ilsvrc2012_wordnet_lemmas.txt\n",
            "Resolving storage.googleapis.com (storage.googleapis.com)... 173.194.210.128, 173.194.213.128, 173.194.215.128, ...\n",
            "Connecting to storage.googleapis.com (storage.googleapis.com)|173.194.210.128|:443... connected.\n",
            "HTTP request sent, awaiting response... 200 OK\n",
            "Length: 21675 (21K) [text/plain]\n",
            "Saving to: ‘ilsvrc2012_wordnet_lemmas.txt’\n",
            "\n",
            "\r          ilsvrc201   0%[                    ]       0  --.-KB/s               \rilsvrc2012_wordnet_ 100%[===================>]  21.17K  --.-KB/s    in 0s      \n",
            "\n",
            "2022-01-17 06:16:40 (113 MB/s) - ‘ilsvrc2012_wordnet_lemmas.txt’ saved [21675/21675]\n",
            "\n"
          ]
        }
      ]
    },
    {
      "cell_type": "code",
      "execution_count": 5,
      "metadata": {
        "id": "7zuhh6qrlh-o"
      },
      "outputs": [],
      "source": [
        "from io import BytesIO\n",
        "\n",
        "import numpy as np\n",
        "import requests\n",
        "import tensorflow as tf\n",
        "import tensorflow_hub as hub\n",
        "from PIL import Image\n",
        "\n",
        "model = hub.load(\"https://tfhub.dev/rishit-dagli/tnt-s/1\")\n",
        "\n",
        "resolution = [224, 224]\n",
        "\n",
        "\n",
        "def preprocess_image(image):\n",
        "    image = np.array(image)\n",
        "    image_resized = tf.image.resize(image, (resolution[0], resolution[1]))\n",
        "    image_resized = tf.cast(image_resized, tf.float32)\n",
        "    image_resized = (image_resized - 127.5) / 127.5\n",
        "    image_resized = tf.keras.layers.Normalization(\n",
        "        mean=(0.5, 0.5, 0.5), variance=(0.25, 0.25, 0.25)\n",
        "    )(image_resized)\n",
        "    return tf.expand_dims(image_resized, 0).numpy()\n",
        "\n",
        "\n",
        "def load_image_from_url(url):\n",
        "    response = requests.get(url)\n",
        "    image = Image.open(BytesIO(response.content))\n",
        "    image = preprocess_image(image)\n",
        "    return image\n",
        "\n",
        "\n",
        "with open(\"ilsvrc2012_wordnet_lemmas.txt\", \"r\") as f:\n",
        "    lines = f.readlines()\n",
        "imagenet_int_to_str = [line.rstrip() for line in lines]\n",
        "\n",
        "\n",
        "def infer_on_image(img_url, expected_label, model):\n",
        "    image = load_image_from_url(img_url)\n",
        "    predictions = model.signatures[\"serving_default\"](tf.constant(image))\n",
        "    logits = predictions[\"output\"][0]\n",
        "    predicted_label = imagenet_int_to_str[int(np.argmax(logits))]\n",
        "    assert (\n",
        "        predicted_label == expected_label\n",
        "    ), f\"Expected {expected_label} but was {predicted_label}\"\n",
        "\n",
        "\n",
        "infer_on_image(\n",
        "    img_url=\"https://storage.googleapis.com/rishit-dagli.appspot.com/sample-images/gW4Gh5v.jpg\",\n",
        "    expected_label=\"tench, Tinca_tinca\",\n",
        "    model=model,\n",
        ")\n",
        "infer_on_image(\n",
        "    img_url=\"https://storage.googleapis.com/rishit-dagli.appspot.com/sample-images/Wv99De3.jpg\",\n",
        "    expected_label=\"window_screen\",\n",
        "    model=model,\n",
        ")"
      ]
    }
  ]
}